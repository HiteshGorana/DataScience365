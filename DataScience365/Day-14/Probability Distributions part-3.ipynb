{
 "cells": [
  {
   "cell_type": "markdown",
   "metadata": {},
   "source": [
    "# `Probability Distributions`"
   ]
  },
  {
   "cell_type": "code",
   "execution_count": 1,
   "metadata": {},
   "outputs": [],
   "source": [
    "%matplotlib inline \n",
    "# for inline plots in jupyter\n",
    "import matplotlib.pyplot as plt# import matplotlib\n",
    "import seaborn as sns\n",
    "import warnings\n",
    "warnings.simplefilter(\"ignore\")\n",
    "from ipywidgets import interact"
   ]
  },
  {
   "cell_type": "code",
   "execution_count": 2,
   "metadata": {},
   "outputs": [],
   "source": [
    "styles = ['seaborn-notebook', 'seaborn', 'seaborn-darkgrid', 'classic', \n",
    "          '_classic_test', 'seaborn-poster', 'tableau-colorblind10', 'grayscale', \n",
    "          'fivethirtyeight', 'seaborn-ticks', 'seaborn-dark', \n",
    "          'dark_background', 'seaborn-pastel', \n",
    "          'fast', 'Solarize_Light2', 'seaborn-colorblind', 'seaborn-white',\n",
    "          'seaborn-dark-palette',\n",
    "          'bmh', 'seaborn-talk', 'seaborn-paper', 'seaborn-deep', 'seaborn-bright', \n",
    "          'seaborn-muted', \n",
    "          'seaborn-whitegrid', 'ggplot']"
   ]
  },
  {
   "cell_type": "markdown",
   "metadata": {},
   "source": [
    "## `5. Poisson Distribution`\n",
    "\n",
    "1. The Poisson distribution is used to model the number of events occurring within a given time interval.\n",
    "\n",
    "![](https://encrypted-tbn0.gstatic.com/images?q=tbn:ANd9GcQsTiqq3hOFW7FErL-WEXm1TrZuUzcTOli84FmvIVjwcFml4bac)\n"
   ]
  },
  {
   "cell_type": "code",
   "execution_count": 3,
   "metadata": {},
   "outputs": [],
   "source": [
    "# import poisson module from scipy.stats to generate poisson random variables.\n",
    "from scipy.stats import poisson"
   ]
  },
  {
   "cell_type": "code",
   "execution_count": 4,
   "metadata": {},
   "outputs": [
    {
     "data": {
      "text/plain": [
       "[Text(0,0.5,'Frequency'), Text(0.5,0,'Poisson')]"
      ]
     },
     "execution_count": 4,
     "metadata": {},
     "output_type": "execute_result"
    },
    {
     "data": {
      "image/png": "[encoded data removed]",
      "text/plain": [
       "<Figure size 432x288 with 1 Axes>"
      ]
     },
     "metadata": {},
     "output_type": "display_data"
    }
   ],
   "source": [
    "# Poisson random variable is typically used to model the number of times an event \n",
    "# happened in a time interval. For example, number of users visited your website in an interval \n",
    "# can be thought of a Poisson process. Poisson distribution is described in terms of the rate (mu) at which\n",
    "# the events happen. We can generate Poisson random variables in Python using poisson.rvs.\n",
    "poisson = poisson.rvs(mu=3, size=10000)\n",
    "# Let us generate 10000 random numbers from Poisson random variable with mu = 0.3 and plot them.\n",
    "ax = sns.distplot(poisson,\n",
    "                  kde=False,\n",
    "                  hist_kws={\"linewidth\": 15,'alpha':1})\n",
    "ax.set(xlabel='Poisson', ylabel='Frequency')"
   ]
  },
  {
   "cell_type": "code",
   "execution_count": 5,
   "metadata": {},
   "outputs": [],
   "source": [
    "def PoissonDistribution(palette=\"dark\",kde = False,style = \"ggplot\"):\n",
    "    plt.figure(figsize=(13,10))\n",
    "    plt.style.use(style)\n",
    "    sns.set_palette(palette)\n",
    "    ax = sns.distplot(poisson,\n",
    "                  kde=kde,\n",
    "                  hist_kws={\"linewidth\": 15,'alpha':1})\n",
    "    ax.set(xlabel='Poisson', ylabel='Frequency')\n",
    "    plt.show()"
   ]
  },
  {
   "cell_type": "code",
   "execution_count": 6,
   "metadata": {},
   "outputs": [
    {
     "data": {
      "application/vnd.jupyter.widget-view+json": {
       "model_id": "a4060fbc05ce48dd8ab17513183d812f",
       "version_major": 2,
       "version_minor": 0
      },
      "text/plain": [
       "interactive(children=(Dropdown(description='palette', index=4, options=('deep', 'muted', 'pastel', 'bright', '…"
      ]
     },
     "metadata": {},
     "output_type": "display_data"
    }
   ],
   "source": [
    "interact(PoissonDistribution,palette = [\"deep\", \"muted\", \"pastel\", \"bright\", \n",
    "                    \"dark\", \"colorblind\",\"Set3\",\"Set2\"],kde = [True,False],style = styles);"
   ]
  },
  {
   "cell_type": "markdown",
   "metadata": {},
   "source": [
    "## `6. Beta Distribution`"
   ]
  },
  {
   "cell_type": "markdown",
   "metadata": {},
   "source": [
    "1. We can understand Beta distribution as a distribution for probabilities. Beta distribution is a continuous distribution taking values from 0 to 1. It is defined by two parameters alpha and beta, depending on the values of alpha and beta they can assume very different distributions."
   ]
  },
  {
   "cell_type": "code",
   "execution_count": 7,
   "metadata": {},
   "outputs": [
    {
     "data": {
      "text/plain": [
       "[Text(0,0.5,'Frequency'), Text(0.5,0,'Beta(1,1)')]"
      ]
     },
     "execution_count": 7,
     "metadata": {},
     "output_type": "execute_result"
    },
    {
     "data": {
      "image/png": "[encoded data removed]",
      "text/plain": [
       "<Figure size 432x288 with 1 Axes>"
      ]
     },
     "metadata": {},
     "output_type": "display_data"
    }
   ],
   "source": [
    "# Let us generate 10000, random numbers from Beta distribution \n",
    "# with alpha = 1 and beta = 1. The histogram of Beta(1,1) is a uniform distribution.\n",
    "from scipy.stats import beta\n",
    "beta = beta.rvs(1, 1, size=10000)\n",
    "ax = sns.distplot(beta,\n",
    "                  kde=False,\n",
    "                  bins=100,\n",
    "                  hist_kws={\"linewidth\": 15,'alpha':1})\n",
    "ax.set(xlabel='Beta(1,1)', ylabel='Frequency')"
   ]
  },
  {
   "cell_type": "code",
   "execution_count": 8,
   "metadata": {},
   "outputs": [
    {
     "data": {
      "text/plain": [
       "[Text(20.2,0.5,'Frequency'), Text(0.5,20.2,'Beta(10,1)')]"
      ]
     },
     "execution_count": 8,
     "metadata": {},
     "output_type": "execute_result"
    },
    {
     "data": {
      "image/png": "[encoded data removed]",
      "text/plain": [
       "<Figure size 432x288 with 1 Axes>"
      ]
     },
     "metadata": {},
     "output_type": "display_data"
    }
   ],
   "source": [
    "# Let us generate 10000, random numbers from Beta distribution with alpha = 10 and beta = 1. \n",
    "# The histogram of Beta(10,1) is skewed towards right.\n",
    "from scipy.stats import beta\n",
    "beta_right = beta.rvs(10, 1, size=10000)\n",
    "sns.distplot(beta_right,\n",
    "             kde=False,\n",
    "             bins=50,\n",
    "             hist_kws={\"linewidth\": 15,'alpha':1})\n",
    "ax.set(xlabel='Beta(10,1)', ylabel='Frequency')"
   ]
  },
  {
   "cell_type": "code",
   "execution_count": 9,
   "metadata": {},
   "outputs": [
    {
     "data": {
      "text/plain": [
       "[Text(0,0.5,'Frequency'), Text(0.5,0,'Beta(1,10)')]"
      ]
     },
     "execution_count": 9,
     "metadata": {},
     "output_type": "execute_result"
    },
    {
     "data": {
      "image/png": "[encoded data removed]",
      "text/plain": [
       "<Figure size 432x288 with 1 Axes>"
      ]
     },
     "metadata": {},
     "output_type": "display_data"
    }
   ],
   "source": [
    "# Let us generate 10000, random numbers from Beta distribution with alpha = 1 and beta = 10.\n",
    "# The histogram of Beta(1,10) is skewed towards left.\n",
    "beta_left = beta.rvs(1, 10, size=10000)\n",
    "ax = sns.distplot(beta_left,\n",
    "                kde=False,\n",
    "                bins=100,\n",
    "                hist_kws={\"linewidth\": 15,'alpha':1})\n",
    "ax.set(xlabel='Beta(1,10)', ylabel='Frequency')"
   ]
  },
  {
   "cell_type": "code",
   "execution_count": 10,
   "metadata": {},
   "outputs": [
    {
     "data": {
      "text/plain": [
       "[Text(0,0.5,'Frequency'), Text(0.5,0,'Beta(10,10)')]"
      ]
     },
     "execution_count": 10,
     "metadata": {},
     "output_type": "execute_result"
    },
    {
     "data": {
      "image/png": "[encoded data removed]",
      "text/plain": [
       "<Figure size 432x288 with 1 Axes>"
      ]
     },
     "metadata": {},
     "output_type": "display_data"
    }
   ],
   "source": [
    "# Let us generate 10000, random numbers from Beta distribution with alpha = 10 and beta = 10. \n",
    "# The histogram of Beta(10,10) is symmetric and looks like a normal distribution\n",
    "beta_symmetric = beta.rvs(10, 10, size=10000)\n",
    "ax = sns.distplot(beta_symmetric,\n",
    "                  kde=False,\n",
    "                  bins=100,\n",
    "                  hist_kws={\"linewidth\": 15,'alpha':1})\n",
    "ax.set(xlabel='Beta(10,10)', ylabel='Frequency')"
   ]
  },
  {
   "cell_type": "code",
   "execution_count": 11,
   "metadata": {},
   "outputs": [],
   "source": [
    "def BetaDistribution(palette=\"dark\",kde = False,style = \"ggplot\",kind = \"left\"):\n",
    "    plt.figure(figsize=(13,10))\n",
    "    plt.style.use(style)\n",
    "    sns.set_palette(palette)\n",
    "    if kind == \"left\":\n",
    "        ax = sns.distplot(beta_left,\n",
    "                kde=kde,\n",
    "                bins=100,\n",
    "                hist_kws={\"linewidth\": 15,'alpha':1})\n",
    "        ax.set(xlabel='Beta(1,10)', ylabel='Frequency')\n",
    "    elif kind == \"right\":\n",
    "        ax = sns.distplot(beta_right,\n",
    "             kde=kde,\n",
    "             bins=50,\n",
    "             hist_kws={\"linewidth\": 15,'alpha':1})\n",
    "        ax.set(xlabel='Beta(10,1)', ylabel='Frequency')\n",
    "    elif kind == \"symmetric\":\n",
    "        ax = sns.distplot(beta_symmetric,\n",
    "                  kde=kde,\n",
    "                  bins=100,\n",
    "                  hist_kws={\"linewidth\": 15,'alpha':1})\n",
    "        ax.set(xlabel='Beta(10,10)', ylabel='Frequency')       \n",
    "    plt.show()"
   ]
  },
  {
   "cell_type": "code",
   "execution_count": 12,
   "metadata": {},
   "outputs": [
    {
     "data": {
      "application/vnd.jupyter.widget-view+json": {
       "model_id": "0f6cdac369064aabaf06c8e7b4b03135",
       "version_major": 2,
       "version_minor": 0
      },
      "text/plain": [
       "interactive(children=(Dropdown(description='palette', index=4, options=('deep', 'muted', 'pastel', 'bright', '…"
      ]
     },
     "metadata": {},
     "output_type": "display_data"
    }
   ],
   "source": [
    "interact(BetaDistribution,palette = [\"deep\", \"muted\", \"pastel\", \"bright\", \n",
    "                    \"dark\", \"colorblind\",\"Set3\",\"Set2\"],kde = [True,False],style = styles,\n",
    "         kind = [\"left\",\"right\",\"symmetric\"]);"
   ]
  }
 ],
 "metadata": {
  "kernelspec": {
   "display_name": "Python 3",
   "language": "python",
   "name": "python3"
  },
  "language_info": {
   "codemirror_mode": {
    "name": "ipython",
    "version": 3
   },
   "file_extension": ".py",
   "mimetype": "text/x-python",
   "name": "python",
   "nbconvert_exporter": "python",
   "pygments_lexer": "ipython3",
   "version": "3.6.5"
  }
 },
 "nbformat": 4,
 "nbformat_minor": 2
}
