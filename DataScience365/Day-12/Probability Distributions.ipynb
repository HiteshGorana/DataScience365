{
 "cells": [
  {
   "cell_type": "markdown",
   "metadata": {},
   "source": [
    "# `Probability Distributions`"
   ]
  },
  {
   "cell_type": "code",
   "execution_count": 1,
   "metadata": {},
   "outputs": [],
   "source": [
    "%matplotlib inline \n",
    "# for inline plots in jupyter\n",
    "import matplotlib.pyplot as plt# import matplotlib\n",
    "import seaborn as sns\n",
    "import warnings\n",
    "warnings.simplefilter(\"ignore\")\n",
    "from ipywidgets import interact"
   ]
  },
  {
   "cell_type": "code",
   "execution_count": 2,
   "metadata": {},
   "outputs": [],
   "source": [
    "styles = ['seaborn-notebook', 'seaborn', 'seaborn-darkgrid', 'classic', \n",
    "          '_classic_test', 'seaborn-poster', 'tableau-colorblind10', 'grayscale', \n",
    "          'fivethirtyeight', 'seaborn-ticks', 'seaborn-dark', \n",
    "          'dark_background', 'seaborn-pastel', \n",
    "          'fast', 'Solarize_Light2', 'seaborn-colorblind', 'seaborn-white',\n",
    "          'seaborn-dark-palette',\n",
    "          'bmh', 'seaborn-talk', 'seaborn-paper', 'seaborn-deep', 'seaborn-bright', \n",
    "          'seaborn-muted', \n",
    "          'seaborn-whitegrid', 'ggplot']"
   ]
  },
  {
   "cell_type": "markdown",
   "metadata": {},
   "source": [
    " ## 1. `Uniform Distribution`"
   ]
  },
  {
   "attachments": {},
   "cell_type": "markdown",
   "metadata": {},
   "source": [
    "1. A uniform distribution, sometimes also known as a rectangular distribution, is a distribution that has constant probability.\n",
    "![image.png](https://s3-ap-south-1.amazonaws.com/av-blog-media/wp-content/uploads/2017/09/16160917/image60.png)"
   ]
  },
  {
   "cell_type": "markdown",
   "metadata": {},
   "source": [
    "`FOR MORE INFORMATION NAVIGATE TO BELOW LINKS :`\n",
    "\n",
    "[link](http://mathworld.wolfram.com/UniformDistribution.html)"
   ]
  },
  {
   "cell_type": "code",
   "execution_count": 3,
   "metadata": {},
   "outputs": [],
   "source": [
    "from scipy.stats import uniform#uniform distribution"
   ]
  },
  {
   "cell_type": "code",
   "execution_count": 4,
   "metadata": {},
   "outputs": [],
   "source": [
    "# random numbers from uniform distribution\n",
    "n = 10000#number of points\n",
    "a = 0 \n",
    "b = 10#o to 10\n",
    "data_uniform = uniform.rvs(size=n, loc = a, scale=b) "
   ]
  },
  {
   "cell_type": "code",
   "execution_count": 5,
   "metadata": {},
   "outputs": [
    {
     "data": {
      "image/png": "[encoded data removed]",
      "text/plain": [
       "<Figure size 432x288 with 1 Axes>"
      ]
     },
     "metadata": {},
     "output_type": "display_data"
    }
   ],
   "source": [
    "ax = sns.distplot(data_uniform,\n",
    "                  bins=100,\n",
    "                  kde=False,\n",
    "                  hist_kws={\"linewidth\": 15,'alpha':1})\n",
    "ax.set(xlabel='Uniform ', ylabel='Frequency');"
   ]
  },
  {
   "cell_type": "code",
   "execution_count": 6,
   "metadata": {},
   "outputs": [],
   "source": [
    "def UniformDistribution(palette=\"dark\",kde = False,style = \"ggplot\"):\n",
    "    plt.figure(figsize=(13,10))\n",
    "    plt.style.use(style)\n",
    "    sns.set_palette(palette)\n",
    "    ax = sns.distplot(data_uniform,\n",
    "                  bins=100,\n",
    "                  kde=kde,\n",
    "                  hist_kws={\"linewidth\": 15,'alpha':1},)\n",
    "    ax.set(xlabel='Uniform ', ylabel='Frequency')\n",
    "    plt.show()"
   ]
  },
  {
   "cell_type": "code",
   "execution_count": 7,
   "metadata": {},
   "outputs": [
    {
     "data": {
      "application/vnd.jupyter.widget-view+json": {
       "model_id": "34d306a18b6040e1b0a9a49c63a92326",
       "version_major": 2,
       "version_minor": 0
      },
      "text/plain": [
       "interactive(children=(Dropdown(description='palette', index=4, options=('deep', 'muted', 'pastel', 'bright', '…"
      ]
     },
     "metadata": {},
     "output_type": "display_data"
    }
   ],
   "source": [
    "interact(UniformDistribution,palette = [\"deep\", \"muted\", \"pastel\", \"bright\", \n",
    "                    \"dark\", \"colorblind\",\"Set3\",\"Set2\"],kde = [True,False],style = styles);"
   ]
  },
  {
   "cell_type": "markdown",
   "metadata": {},
   "source": [
    "## 2. `Normal Distribution`"
   ]
  },
  {
   "cell_type": "markdown",
   "metadata": {},
   "source": [
    "![](https://s3-ap-south-1.amazonaws.com/av-blog-media/wp-content/uploads/2017/09/18182822/normal-graph.jpg)\n",
    "![](https://s3-ap-south-1.amazonaws.com/av-blog-media/wp-content/uploads/2017/09/16161923/image62.png)\n",
    "Normal distribution represents the behavior of most of the situations in the universe (That is why it’s called a “normal” distribution. I guess!). The large sum of (small) random variables often turns out to be normally distributed, contributing to its widespread application. Any distribution is known as Normal distribution if it has the following characteristics:\n",
    "\n",
    "1. The mean, median and mode of the distribution coincide.\n",
    "2. The curve of the distribution is bell-shaped and symmetrical about the line x=μ.\n",
    "3. The total area under the curve is 1.\n",
    "4. Exactly half of the values are to the left of the center and the other half to the right."
   ]
  },
  {
   "cell_type": "code",
   "execution_count": 8,
   "metadata": {},
   "outputs": [],
   "source": [
    "from scipy.stats import norm"
   ]
  },
  {
   "cell_type": "code",
   "execution_count": 9,
   "metadata": {},
   "outputs": [],
   "source": [
    "data_normal = norm.rvs(size=10000,loc=0,scale=1)# generate random numbersfrom N(0,1)"
   ]
  },
  {
   "cell_type": "code",
   "execution_count": 10,
   "metadata": {},
   "outputs": [
    {
     "data": {
      "text/plain": [
       "[Text(0,0.5,'Frequency'), Text(0.5,0,'Normal')]"
      ]
     },
     "execution_count": 10,
     "metadata": {},
     "output_type": "execute_result"
    },
    {
     "data": {
      "image/png": "[encoded data removed]",
      "text/plain": [
       "<Figure size 432x288 with 1 Axes>"
      ]
     },
     "metadata": {},
     "output_type": "display_data"
    }
   ],
   "source": [
    "ax = sns.distplot(data_normal,\n",
    "                  bins=100,\n",
    "                  kde=False,\n",
    "                  hist_kws={\"linewidth\": 15,'alpha':1})\n",
    "ax.set(xlabel='Normal', ylabel='Frequency')"
   ]
  },
  {
   "cell_type": "code",
   "execution_count": 11,
   "metadata": {},
   "outputs": [],
   "source": [
    "def NormalDistribution(palette=\"dark\",kde = False,style = \"ggplot\"):\n",
    "    plt.figure(figsize=(13,10))\n",
    "    sns.set_palette(palette)\n",
    "    plt.style.use(style)\n",
    "    ax = sns.distplot(data_normal,\n",
    "                  bins=100,\n",
    "                  kde=kde,\n",
    "                  hist_kws={\"linewidth\": 15,'alpha':1})\n",
    "    ax.set(xlabel='Normal', ylabel='Frequency')\n",
    "    plt.show()"
   ]
  },
  {
   "cell_type": "code",
   "execution_count": 12,
   "metadata": {},
   "outputs": [
    {
     "data": {
      "application/vnd.jupyter.widget-view+json": {
       "model_id": "124e0d06de9743788c4be3b81e584daf",
       "version_major": 2,
       "version_minor": 0
      },
      "text/plain": [
       "interactive(children=(Dropdown(description='palette', index=4, options=('deep', 'muted', 'pastel', 'bright', '…"
      ]
     },
     "metadata": {},
     "output_type": "display_data"
    }
   ],
   "source": [
    "interact(NormalDistribution,palette = [\"deep\", \"muted\", \"pastel\", \"bright\", \n",
    "                    \"dark\", \"colorblind\",\"Set3\",\"Set2\"],kde = [True,False],style = styles);"
   ]
  }
 ],
 "metadata": {
  "kernelspec": {
   "display_name": "Python 3",
   "language": "python",
   "name": "python3"
  },
  "language_info": {
   "codemirror_mode": {
    "name": "ipython",
    "version": 3
   },
   "file_extension": ".py",
   "mimetype": "text/x-python",
   "name": "python",
   "nbconvert_exporter": "python",
   "pygments_lexer": "ipython3",
   "version": "3.6.5"
  }
 },
 "nbformat": 4,
 "nbformat_minor": 2
}
