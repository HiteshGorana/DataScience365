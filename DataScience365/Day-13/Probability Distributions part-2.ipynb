{
 "cells": [
  {
   "cell_type": "markdown",
   "metadata": {},
   "source": [
    "# `Probability Distributions`"
   ]
  },
  {
   "cell_type": "code",
   "execution_count": 1,
   "metadata": {},
   "outputs": [],
   "source": [
    "%matplotlib inline \n",
    "# for inline plots in jupyter\n",
    "import matplotlib.pyplot as plt# import matplotlib\n",
    "import seaborn as sns\n",
    "import warnings\n",
    "warnings.simplefilter(\"ignore\")\n",
    "from ipywidgets import interact"
   ]
  },
  {
   "cell_type": "code",
   "execution_count": 2,
   "metadata": {},
   "outputs": [],
   "source": [
    "styles = ['seaborn-notebook', 'seaborn', 'seaborn-darkgrid', 'classic', \n",
    "          '_classic_test', 'seaborn-poster', 'tableau-colorblind10', 'grayscale', \n",
    "          'fivethirtyeight', 'seaborn-ticks', 'seaborn-dark', \n",
    "          'dark_background', 'seaborn-pastel', \n",
    "          'fast', 'Solarize_Light2', 'seaborn-colorblind', 'seaborn-white',\n",
    "          'seaborn-dark-palette',\n",
    "          'bmh', 'seaborn-talk', 'seaborn-paper', 'seaborn-deep', 'seaborn-bright', \n",
    "          'seaborn-muted', \n",
    "          'seaborn-whitegrid', 'ggplot']"
   ]
  },
  {
   "cell_type": "markdown",
   "metadata": {},
   "source": [
    "## `3. Bernoulli Distribution`\n",
    "A random variable X is said to be a Bernoulli random variable with parameter p, shown as X∼Bernoulli(p), if its PMF is given by\n",
    "\n",
    "\\begin{equation}\n",
    "             \\nonumber P_X(x) = \\left\\{\n",
    "              \\begin{array}{l l}\n",
    "                 p& \\quad \\text{for  } x=1\\\\\n",
    "                1-p & \\quad \\text{ for } x=0\\\\\n",
    "                0  & \\quad \\text{ otherwise}\n",
    "              \\end{array} \\right.\n",
    "            \\end{equation}\n",
    "\n",
    "            where 0<p<1.\n",
    "![](http://probabilitycourse.com/images/chapter3/bernoulli(p)%20color.png)"
   ]
  },
  {
   "cell_type": "code",
   "execution_count": 3,
   "metadata": {},
   "outputs": [],
   "source": [
    "# import bernoulli\n",
    "from scipy.stats import bernoulli"
   ]
  },
  {
   "cell_type": "markdown",
   "metadata": {},
   "source": [
    "* Bernoulli random variable can take either 0 or 1 using certain probability as a parameter. To generate 10000, bernoulli random numbers with success probability p =0.3, we will use bernoulli.rvs with two arguments."
   ]
  },
  {
   "cell_type": "code",
   "execution_count": 4,
   "metadata": {},
   "outputs": [
    {
     "data": {
      "text/plain": [
       "[Text(0,0.5,'Frequency'), Text(0.5,0,'Bernoulli')]"
      ]
     },
     "execution_count": 4,
     "metadata": {},
     "output_type": "execute_result"
    },
    {
     "data": {
      "image/png": "[encoded data removed]",
      "text/plain": [
       "<Figure size 432x288 with 1 Axes>"
      ]
     },
     "metadata": {},
     "output_type": "display_data"
    }
   ],
   "source": [
    "# generate bernoulli\n",
    "data_bern = bernoulli.rvs(size=10000,p=0.3)\n",
    "ax= sns.distplot(data_bern,\n",
    "                 kde=False,\n",
    "                 hist_kws={\"linewidth\": 15,'alpha':1})\n",
    "ax.set(xlabel='Bernoulli', ylabel='Frequency')\n",
    "# We can see from the plot below out of 10000 trials with success probability 0.3, \n",
    "# we get about 3000 successes"
   ]
  },
  {
   "cell_type": "code",
   "execution_count": 5,
   "metadata": {},
   "outputs": [],
   "source": [
    "def BernoulliDistribution(palette=\"dark\",kde = False,style = \"ggplot\"):\n",
    "    plt.figure(figsize=(13,10))\n",
    "    plt.style.use(style)\n",
    "    sns.set_palette(palette)\n",
    "    ax= sns.distplot(data_bern,\n",
    "                 kde=kde,\n",
    "                 hist_kws={\"linewidth\": 15,'alpha':1})\n",
    "    ax.set(xlabel='Bernoulli', ylabel='Frequency')\n",
    "    plt.show()"
   ]
  },
  {
   "cell_type": "code",
   "execution_count": 6,
   "metadata": {},
   "outputs": [
    {
     "data": {
      "application/vnd.jupyter.widget-view+json": {
       "model_id": "389a8d0298704e8d931baed95cec8508",
       "version_major": 2,
       "version_minor": 0
      },
      "text/plain": [
       "interactive(children=(Dropdown(description='palette', index=4, options=('deep', 'muted', 'pastel', 'bright', '…"
      ]
     },
     "metadata": {},
     "output_type": "display_data"
    }
   ],
   "source": [
    "interact(BernoulliDistribution,palette = [\"deep\", \"muted\", \"pastel\", \"bright\", \n",
    "                    \"dark\", \"colorblind\",\"Set3\",\"Set2\"],kde = [True,False],style = styles);"
   ]
  },
  {
   "cell_type": "markdown",
   "metadata": {},
   "source": [
    "## `4. Binomial Distribution`\n",
    "\n",
    "1. The binomial distribution is a discrete probability distribution that gives the probability that n identical independently distributed Bernoulli trials sum to k, where n is any natural number.\n",
    "![](https://www.s-cool.co.uk/gifs/a-mat-sdisc-dia08.gif)"
   ]
  },
  {
   "cell_type": "code",
   "execution_count": 7,
   "metadata": {},
   "outputs": [],
   "source": [
    "from scipy.stats import binom"
   ]
  },
  {
   "cell_type": "markdown",
   "metadata": {},
   "source": [
    "* Binomial distribution is a discrete probability distributionlike Bernoulli. It can be used to obtain the number of successes from N Bernoulli trials. For example, to find the number of successes in 10 Bernoulli trials with p =0.5, we will use"
   ]
  },
  {
   "cell_type": "code",
   "execution_count": 8,
   "metadata": {},
   "outputs": [
    {
     "data": {
      "text/plain": [
       "8"
      ]
     },
     "execution_count": 8,
     "metadata": {},
     "output_type": "execute_result"
    }
   ],
   "source": [
    "binom.rvs(n=10,p=0.5)"
   ]
  },
  {
   "cell_type": "markdown",
   "metadata": {},
   "source": [
    "* We can also use binom.rvs to repeat the trials with size argument. If we want to repeat 5 times, we will use"
   ]
  },
  {
   "cell_type": "code",
   "execution_count": 9,
   "metadata": {},
   "outputs": [
    {
     "data": {
      "text/plain": [
       "[Text(0,0.5,'Frequency'), Text(0.5,0,'Binomial')]"
      ]
     },
     "execution_count": 9,
     "metadata": {},
     "output_type": "execute_result"
    },
    {
     "data": {
      "image/png": "[encoded data removed]",
      "text/plain": [
       "<Figure size 432x288 with 1 Axes>"
      ]
     },
     "metadata": {},
     "output_type": "display_data"
    }
   ],
   "source": [
    "data_binom = binom.rvs(n=10,p=0.5,size=10000)\n",
    "ax = sns.distplot(data_binom,\n",
    "                  kde=False,\n",
    "                  hist_kws={\"linewidth\": 15,'alpha':1})\n",
    "ax.set(xlabel='Binomial', ylabel='Frequency')"
   ]
  },
  {
   "cell_type": "code",
   "execution_count": 10,
   "metadata": {},
   "outputs": [],
   "source": [
    "def BinomialDistribution(palette=\"dark\",kde = False,style = \"ggplot\"):\n",
    "    plt.figure(figsize=(13,10))\n",
    "    plt.style.use(style)\n",
    "    sns.set_palette(palette)\n",
    "    ax = sns.distplot(data_binom,\n",
    "                  kde=kde,\n",
    "                  hist_kws={\"linewidth\": 15,'alpha':1})\n",
    "    ax.set(xlabel='Binomial', ylabel='Frequency')\n",
    "    plt.show()"
   ]
  },
  {
   "cell_type": "code",
   "execution_count": 11,
   "metadata": {},
   "outputs": [
    {
     "data": {
      "application/vnd.jupyter.widget-view+json": {
       "model_id": "1eadb342572c4d19ad2075ce5de5cdbd",
       "version_major": 2,
       "version_minor": 0
      },
      "text/plain": [
       "interactive(children=(Dropdown(description='palette', index=4, options=('deep', 'muted', 'pastel', 'bright', '…"
      ]
     },
     "metadata": {},
     "output_type": "display_data"
    }
   ],
   "source": [
    "interact(BinomialDistribution,palette = [\"deep\", \"muted\", \"pastel\", \"bright\", \n",
    "                    \"dark\", \"colorblind\",\"Set3\",\"Set2\"],kde = [True,False],style = styles);"
   ]
  }
 ],
 "metadata": {
  "kernelspec": {
   "display_name": "Python 3",
   "language": "python",
   "name": "python3"
  },
  "language_info": {
   "codemirror_mode": {
    "name": "ipython",
    "version": 3
   },
   "file_extension": ".py",
   "mimetype": "text/x-python",
   "name": "python",
   "nbconvert_exporter": "python",
   "pygments_lexer": "ipython3",
   "version": "3.6.5"
  }
 },
 "nbformat": 4,
 "nbformat_minor": 2
}
