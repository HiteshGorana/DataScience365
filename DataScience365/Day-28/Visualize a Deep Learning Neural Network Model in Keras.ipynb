{
 "cells": [
  {
   "cell_type": "code",
   "execution_count": 1,
   "metadata": {},
   "outputs": [
    {
     "data": {
      "text/html": [
       "<style>.container { width:100% !important; }</style>"
      ],
      "text/plain": [
       "<IPython.core.display.HTML object>"
      ]
     },
     "metadata": {},
     "output_type": "display_data"
    },
    {
     "data": {
      "text/html": [
       "<style>.CodeMirror { font-size:22px !important; }</style>"
      ],
      "text/plain": [
       "<IPython.core.display.HTML object>"
      ]
     },
     "metadata": {},
     "output_type": "display_data"
    },
    {
     "data": {
      "text/html": [
       "<style>.container { background-color:#dee4dd !important; }</style>"
      ],
      "text/plain": [
       "<IPython.core.display.HTML object>"
      ]
     },
     "metadata": {},
     "output_type": "display_data"
    }
   ],
   "source": [
    "from IPython.core.display import display, HTML\n",
    "display(HTML(\"<style>.container { width:100% !important; }</style>\"))\n",
    "display(HTML(\"<style>.CodeMirror { font-size:22px !important; }</style>\"))\n",
    "display(HTML(\"<style>.container { background-color:#dee4dd !important; }</style>\"))"
   ]
  },
  {
   "cell_type": "markdown",
   "metadata": {},
   "source": [
    "# 1. `How to Visualize a Deep Learning Neural Network Model in Keras`\n",
    "[LINK](https://machinelearningmastery.com/visualize-deep-learning-neural-network-model-keras/)"
   ]
  },
  {
   "cell_type": "code",
   "execution_count": 2,
   "metadata": {},
   "outputs": [
    {
     "name": "stderr",
     "output_type": "stream",
     "text": [
      "Using TensorFlow backend.\n"
     ]
    }
   ],
   "source": [
    "# multilayer Perceptron\n",
    "# [1 input] -> [2 neurons] -> [1 output]\n",
    "from keras.models import Sequential\n",
    "from keras.layers import Dense\n",
    "from keras.utils.vis_utils import plot_model\n",
    "from IPython.display import SVG\n",
    "from keras.utils.vis_utils import model_to_dot"
   ]
  },
  {
   "cell_type": "code",
   "execution_count": 3,
   "metadata": {},
   "outputs": [
    {
     "name": "stdout",
     "output_type": "stream",
     "text": [
      "_________________________________________________________________\n",
      "Layer (type)                 Output Shape              Param #   \n",
      "=================================================================\n",
      "LayerOne (Dense)             (None, 2)                 4         \n",
      "_________________________________________________________________\n",
      "outputLayer (Dense)          (None, 1)                 3         \n",
      "=================================================================\n",
      "Total params: 7\n",
      "Trainable params: 7\n",
      "Non-trainable params: 0\n",
      "_________________________________________________________________\n"
     ]
    }
   ],
   "source": [
    "model = Sequential()\n",
    "# 1(Input shape) * 2(Output shape) + (2(number of output nodes))BiasValue = 4\n",
    "model.add(Dense(2, input_dim=1, activation='relu', name='LayerOne'))\n",
    "# 2(Input shape) * 1(Output shape) + (1(number of output nodes))BiasValue = 3\n",
    "model.add(Dense(1, activation='sigmoid',name='outputLayer'))\n",
    "# Total = 7\n",
    "model.summary()"
   ]
  },
  {
   "cell_type": "code",
   "execution_count": 4,
   "metadata": {},
   "outputs": [],
   "source": [
    "# DISPLAY THE MODEL \n",
    "plot_model(model, to_file='MLP.png', show_shapes=True, show_layer_names=True)\n",
    "# from IPython.display import HTML\n",
    "# style = \"<style>svg{width:200% !important;height:200% !important;}</style>\"\n",
    "# HTML(style)"
   ]
  },
  {
   "cell_type": "code",
   "execution_count": 5,
   "metadata": {},
   "outputs": [
    {
     "data": {
      "image/svg+xml": [
       "<svg height=\"211pt\" viewBox=\"0.00 0.00 259.00 211.00\" width=\"259pt\" xmlns=\"http://www.w3.org/2000/svg\" xmlns:xlink=\"http://www.w3.org/1999/xlink\">\n",
       "<g class=\"graph\" id=\"graph0\" transform=\"scale(1 1) rotate(0) translate(4 207)\">\n",
       "<title>G</title>\n",
       "<polygon fill=\"white\" points=\"-4,4 -4,-207 255,-207 255,4 -4,4\" stroke=\"none\"/>\n",
       "<!-- 2597823613024 -->\n",
       "<g class=\"node\" id=\"node1\"><title>2597823613024</title>\n",
       "<polygon fill=\"none\" points=\"6,-83.5 6,-129.5 245,-129.5 245,-83.5 6,-83.5\" stroke=\"black\"/>\n",
       "<text font-family=\"Times New Roman,serif\" font-size=\"14.00\" text-anchor=\"middle\" x=\"62.5\" y=\"-102.8\">LayerOne: Dense</text>\n",
       "<polyline fill=\"none\" points=\"119,-83.5 119,-129.5 \" stroke=\"black\"/>\n",
       "<text font-family=\"Times New Roman,serif\" font-size=\"14.00\" text-anchor=\"middle\" x=\"147\" y=\"-114.3\">input:</text>\n",
       "<polyline fill=\"none\" points=\"119,-106.5 175,-106.5 \" stroke=\"black\"/>\n",
       "<text font-family=\"Times New Roman,serif\" font-size=\"14.00\" text-anchor=\"middle\" x=\"147\" y=\"-91.3\">output:</text>\n",
       "<polyline fill=\"none\" points=\"175,-83.5 175,-129.5 \" stroke=\"black\"/>\n",
       "<text font-family=\"Times New Roman,serif\" font-size=\"14.00\" text-anchor=\"middle\" x=\"210\" y=\"-114.3\">(None, 1)</text>\n",
       "<polyline fill=\"none\" points=\"175,-106.5 245,-106.5 \" stroke=\"black\"/>\n",
       "<text font-family=\"Times New Roman,serif\" font-size=\"14.00\" text-anchor=\"middle\" x=\"210\" y=\"-91.3\">(None, 2)</text>\n",
       "</g>\n",
       "<!-- 2597713307240 -->\n",
       "<g class=\"node\" id=\"node2\"><title>2597713307240</title>\n",
       "<polygon fill=\"none\" points=\"0,-0.5 0,-46.5 251,-46.5 251,-0.5 0,-0.5\" stroke=\"black\"/>\n",
       "<text font-family=\"Times New Roman,serif\" font-size=\"14.00\" text-anchor=\"middle\" x=\"62.5\" y=\"-19.8\">outputLayer: Dense</text>\n",
       "<polyline fill=\"none\" points=\"125,-0.5 125,-46.5 \" stroke=\"black\"/>\n",
       "<text font-family=\"Times New Roman,serif\" font-size=\"14.00\" text-anchor=\"middle\" x=\"153\" y=\"-31.3\">input:</text>\n",
       "<polyline fill=\"none\" points=\"125,-23.5 181,-23.5 \" stroke=\"black\"/>\n",
       "<text font-family=\"Times New Roman,serif\" font-size=\"14.00\" text-anchor=\"middle\" x=\"153\" y=\"-8.3\">output:</text>\n",
       "<polyline fill=\"none\" points=\"181,-0.5 181,-46.5 \" stroke=\"black\"/>\n",
       "<text font-family=\"Times New Roman,serif\" font-size=\"14.00\" text-anchor=\"middle\" x=\"216\" y=\"-31.3\">(None, 2)</text>\n",
       "<polyline fill=\"none\" points=\"181,-23.5 251,-23.5 \" stroke=\"black\"/>\n",
       "<text font-family=\"Times New Roman,serif\" font-size=\"14.00\" text-anchor=\"middle\" x=\"216\" y=\"-8.3\">(None, 1)</text>\n",
       "</g>\n",
       "<!-- 2597823613024&#45;&gt;2597713307240 -->\n",
       "<g class=\"edge\" id=\"edge2\"><title>2597823613024-&gt;2597713307240</title>\n",
       "<path d=\"M125.5,-83.3664C125.5,-75.1516 125.5,-65.6579 125.5,-56.7252\" fill=\"none\" stroke=\"black\"/>\n",
       "<polygon fill=\"black\" points=\"129,-56.6068 125.5,-46.6068 122,-56.6069 129,-56.6068\" stroke=\"black\"/>\n",
       "</g>\n",
       "<!-- 2597823613864 -->\n",
       "<g class=\"node\" id=\"node3\"><title>2597823613864</title>\n",
       "<polygon fill=\"none\" points=\"73.5,-166.5 73.5,-202.5 177.5,-202.5 177.5,-166.5 73.5,-166.5\" stroke=\"black\"/>\n",
       "<text font-family=\"Times New Roman,serif\" font-size=\"14.00\" text-anchor=\"middle\" x=\"125.5\" y=\"-180.8\">2597823613864</text>\n",
       "</g>\n",
       "<!-- 2597823613864&#45;&gt;2597823613024 -->\n",
       "<g class=\"edge\" id=\"edge1\"><title>2597823613864-&gt;2597823613024</title>\n",
       "<path d=\"M125.5,-166.254C125.5,-158.363 125.5,-148.749 125.5,-139.602\" fill=\"none\" stroke=\"black\"/>\n",
       "<polygon fill=\"black\" points=\"129,-139.591 125.5,-129.591 122,-139.591 129,-139.591\" stroke=\"black\"/>\n",
       "</g>\n",
       "</g>\n",
       "</svg>"
      ],
      "text/plain": [
       "<IPython.core.display.SVG object>"
      ]
     },
     "execution_count": 5,
     "metadata": {},
     "output_type": "execute_result"
    }
   ],
   "source": [
    "SVG(model_to_dot(model,show_shapes=True, show_layer_names=True).create(prog='dot', format='svg'))"
   ]
  }
 ],
 "metadata": {
  "kernelspec": {
   "display_name": "Python 3",
   "language": "python",
   "name": "python3"
  },
  "language_info": {
   "codemirror_mode": {
    "name": "ipython",
    "version": 3
   },
   "file_extension": ".py",
   "mimetype": "text/x-python",
   "name": "python",
   "nbconvert_exporter": "python",
   "pygments_lexer": "ipython3",
   "version": "3.6.8"
  }
 },
 "nbformat": 4,
 "nbformat_minor": 2
}
