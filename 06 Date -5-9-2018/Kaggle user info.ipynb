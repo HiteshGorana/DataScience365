{
 "cells": [
  {
   "cell_type": "code",
   "execution_count": 97,
   "metadata": {},
   "outputs": [],
   "source": [
    "import pandas as pd\n",
    "import matplotlib.pyplot as plt\n",
    "import seaborn as sns"
   ]
  },
  {
   "cell_type": "code",
   "execution_count": 2,
   "metadata": {},
   "outputs": [],
   "source": [
    "df = pd.read_csv(\"Users.csv\")"
   ]
  },
  {
   "cell_type": "code",
   "execution_count": 3,
   "metadata": {},
   "outputs": [
    {
     "data": {
      "text/html": [
       "<div>\n",
       "<style scoped>\n",
       "    .dataframe tbody tr th:only-of-type {\n",
       "        vertical-align: middle;\n",
       "    }\n",
       "\n",
       "    .dataframe tbody tr th {\n",
       "        vertical-align: top;\n",
       "    }\n",
       "\n",
       "    .dataframe thead th {\n",
       "        text-align: right;\n",
       "    }\n",
       "</style>\n",
       "<table border=\"1\" class=\"dataframe\">\n",
       "  <thead>\n",
       "    <tr style=\"text-align: right;\">\n",
       "      <th></th>\n",
       "      <th>Id</th>\n",
       "      <th>UserName</th>\n",
       "      <th>DisplayName</th>\n",
       "      <th>RegisterDate</th>\n",
       "      <th>PerformanceTier</th>\n",
       "    </tr>\n",
       "  </thead>\n",
       "  <tbody>\n",
       "    <tr>\n",
       "      <th>0</th>\n",
       "      <td>1</td>\n",
       "      <td>kaggleteam</td>\n",
       "      <td>Kaggle Team</td>\n",
       "      <td>3/24/2011</td>\n",
       "      <td>5</td>\n",
       "    </tr>\n",
       "    <tr>\n",
       "      <th>1</th>\n",
       "      <td>368</td>\n",
       "      <td>antgoldbloom</td>\n",
       "      <td>Anthony Goldbloom</td>\n",
       "      <td>1/20/2010</td>\n",
       "      <td>5</td>\n",
       "    </tr>\n",
       "    <tr>\n",
       "      <th>2</th>\n",
       "      <td>381</td>\n",
       "      <td>iguyon</td>\n",
       "      <td>Isabelle</td>\n",
       "      <td>1/29/2010</td>\n",
       "      <td>2</td>\n",
       "    </tr>\n",
       "    <tr>\n",
       "      <th>3</th>\n",
       "      <td>385</td>\n",
       "      <td>demonjosh</td>\n",
       "      <td>Demon Josh</td>\n",
       "      <td>2/2/2010</td>\n",
       "      <td>0</td>\n",
       "    </tr>\n",
       "    <tr>\n",
       "      <th>4</th>\n",
       "      <td>387</td>\n",
       "      <td>nicholasgruen</td>\n",
       "      <td>Nicholas Gruen</td>\n",
       "      <td>2/2/2010</td>\n",
       "      <td>0</td>\n",
       "    </tr>\n",
       "  </tbody>\n",
       "</table>\n",
       "</div>"
      ],
      "text/plain": [
       "    Id       UserName        DisplayName RegisterDate  PerformanceTier\n",
       "0    1     kaggleteam        Kaggle Team    3/24/2011                5\n",
       "1  368   antgoldbloom  Anthony Goldbloom    1/20/2010                5\n",
       "2  381         iguyon           Isabelle    1/29/2010                2\n",
       "3  385      demonjosh         Demon Josh     2/2/2010                0\n",
       "4  387  nicholasgruen     Nicholas Gruen     2/2/2010                0"
      ]
     },
     "execution_count": 3,
     "metadata": {},
     "output_type": "execute_result"
    }
   ],
   "source": [
    "df.head()"
   ]
  },
  {
   "cell_type": "code",
   "execution_count": 66,
   "metadata": {},
   "outputs": [
    {
     "data": {
      "text/plain": [
       "(2034456, 5)"
      ]
     },
     "execution_count": 66,
     "metadata": {},
     "output_type": "execute_result"
    }
   ],
   "source": [
    "df.shape\n",
    "# Novice, Contributor, Expert, Master, and Grandmaster."
   ]
  },
  {
   "cell_type": "code",
   "execution_count": 65,
   "metadata": {},
   "outputs": [
    {
     "data": {
      "text/plain": [
       "6"
      ]
     },
     "execution_count": 65,
     "metadata": {},
     "output_type": "execute_result"
    }
   ],
   "source": [
    "# 6 unique values representing user's level on Kaggle's progression system\n",
    "df.PerformanceTier.nunique()"
   ]
  },
  {
   "cell_type": "code",
   "execution_count": 82,
   "metadata": {},
   "outputs": [
    {
     "data": {
      "text/plain": [
       "PerformanceTier\n",
       "Novice    1556940\n",
       "1           48965\n",
       "2            3823\n",
       "3             999\n",
       "4             126\n",
       "5              60\n",
       "Name: DisplayName, dtype: int64"
      ]
     },
     "execution_count": 82,
     "metadata": {},
     "output_type": "execute_result"
    }
   ],
   "source": [
    "df.groupby(\"PerformanceTier\")[\"DisplayName\"].nunique().rename(index = {0 : \"Novice\"})"
   ]
  },
  {
   "cell_type": "code",
   "execution_count": 73,
   "metadata": {},
   "outputs": [
    {
     "data": {
      "text/plain": [
       "0                Kaggle Team\n",
       "1          Anthony Goldbloom\n",
       "257               Ben Hamner\n",
       "649                    Rowan\n",
       "881               Jeff Moser\n",
       "1190       William Cukierski\n",
       "3503                    DanB\n",
       "16584             DataCanary\n",
       "24174              Wendy Kan\n",
       "44629              inversion\n",
       "97594          Phil Culliton\n",
       "162673            Jerad Rose\n",
       "216558          Anna Montoya\n",
       "218936      Meghan O'Connell\n",
       "256592         Myles O'Neill\n",
       "262812        Flavio Fiszman\n",
       "406146           ColinMorris\n",
       "415978        Chris Crawford\n",
       "425862          Megan Risdal\n",
       "428189             Rand Seay\n",
       "456512       Aurelio Agundez\n",
       "524734         Julia Elliott\n",
       "613204            Sam Harris\n",
       "721721           Sean Bergam\n",
       "741014      Cole Chamberlain\n",
       "887054                Maggie\n",
       "889510         Timo Bozsolik\n",
       "943783         Mark McDonald\n",
       "950883            Seb Boving\n",
       "979656        Addison Howard\n",
       "1014925          Sohier Dane\n",
       "1042762       Rachael Tatman\n",
       "1057407           Jim Plotts\n",
       "1114939        Nathan Jervis\n",
       "1122000         MichaelApers\n",
       "1123802          Eyob Tefera\n",
       "1179717         Stephen Sisk\n",
       "1184426          Paul Mooney\n",
       "1185109           Peijen Lin\n",
       "1313122           Ces Cortez\n",
       "1348426     Camille McMorrow\n",
       "1394565       Elizabeth Park\n",
       "1575574         Noah Daniels\n",
       "1618217           Jessica Li\n",
       "1634047      Rebecca Ysteboe\n",
       "1692992             Don Jang\n",
       "1705939        Vaishali Jain\n",
       "1712129       Chelsea Raerek\n",
       "1721854          Zach Diemer\n",
       "1724696               Corrie\n",
       "1731406          DJ Sterling\n",
       "1789220           Jacky Wang\n",
       "1794210        Mike Procopio\n",
       "1794429         Ian Catindig\n",
       "1819810    Vincent Roseberry\n",
       "1871237               Dustin\n",
       "1871787                   MJ\n",
       "1885623          Will Guedes\n",
       "1908957      Kaggle Kerneler\n",
       "1959525               Rachel\n",
       "Name: DisplayName, dtype: object"
      ]
     },
     "execution_count": 73,
     "metadata": {},
     "output_type": "execute_result"
    }
   ],
   "source": [
    "df[df.PerformanceTier == 5][\"DisplayName\"]"
   ]
  },
  {
   "cell_type": "code",
   "execution_count": 74,
   "metadata": {},
   "outputs": [
    {
     "data": {
      "text/plain": [
       "191             Alexander  Larko\n",
       "361                    Sali Mali\n",
       "419               Michael Jahrer\n",
       "431              Yasser Tabandeh\n",
       "486           Christopher Hefele\n",
       "621            José H. Solórzano\n",
       "734               David J. Slate\n",
       "776                     Bluefool\n",
       "842                 Charlie Tang\n",
       "1121         Alexander D'yakonov\n",
       "1173              Naokazu Mizuta\n",
       "1188               Jeremy Howard\n",
       "1233                  Eu Jin Lok\n",
       "1249                Tim Salimans\n",
       "1341                      B Yang\n",
       "1453                      Sergey\n",
       "1681            Sergey Yurgenson\n",
       "1955                Vivek Sharma\n",
       "2040                    Abhishek\n",
       "2176            José A. Guerrero\n",
       "2455                       Kohei\n",
       "2594                        Zach\n",
       "2750                  Jason Tigg\n",
       "2760                        Glen\n",
       "2785                 Stefan Henß\n",
       "3003         Neil Schneider, FSA\n",
       "3044                        Owen\n",
       "3074                 Anil Thomas\n",
       "3338                      jontix\n",
       "3373      Alfonso Nieto-Castanon\n",
       "                   ...          \n",
       "211902                 ash hafez\n",
       "219388                     NxGTR\n",
       "224239                   utility\n",
       "232933                  Plankton\n",
       "240040        Vladimir Iglovikov\n",
       "242844             Alexey Noskov\n",
       "251782                DeBut_Kele\n",
       "252705               Bishwarup B\n",
       "277522             Matias Thayer\n",
       "286127             Nima Shahbazi\n",
       "302251             Pavel Pleskov\n",
       "334977                    Russ W\n",
       "346190                    raddar\n",
       "347192                  qianqian\n",
       "348124                     n01z3\n",
       "357430              Bojan Tunguz\n",
       "361196                   bobutis\n",
       "395029                   ZFTurbo\n",
       "396101            Alberto Danese\n",
       "408464                       sjv\n",
       "426338               Kyle Y. Lee\n",
       "435568                    anokas\n",
       "449744            Evgeny Patekha\n",
       "479294                   Fengari\n",
       "489942                    piupiu\n",
       "510146                    weiwei\n",
       "621524               bestfitting\n",
       "659979                  plantsgo\n",
       "869457            thousandvoices\n",
       "904829            Heads or Tails\n",
       "Name: DisplayName, Length: 126, dtype: object"
      ]
     },
     "execution_count": 74,
     "metadata": {},
     "output_type": "execute_result"
    }
   ],
   "source": [
    "df[df.PerformanceTier == 4][\"DisplayName\"]"
   ]
  },
  {
   "cell_type": "code",
   "execution_count": 75,
   "metadata": {},
   "outputs": [
    {
     "data": {
      "text/plain": [
       "8               Julien Meynet\n",
       "28             Dmitry Dryomov\n",
       "64                   Quan Sun\n",
       "146                       Ben\n",
       "199                      Adam\n",
       "203              Jure Zbontar\n",
       "221                    Hug Mi\n",
       "232              Dirk Nachbar\n",
       "260            Jason Karpeles\n",
       "344              Brian Elwell\n",
       "370             Lewis Griffin\n",
       "383               Yuchun Tang\n",
       "458                    Albert\n",
       "468                Ed Ramsden\n",
       "558            Chris Raimondi\n",
       "638                BlackMagic\n",
       "645               David Vogel\n",
       "651             Gilles Louppe\n",
       "673                   Mikhail\n",
       "690        Konrad Banachewicz\n",
       "710           Yannis Sismanis\n",
       "717                 Lee Baker\n",
       "736                     Diogo\n",
       "754                 Uri Blass\n",
       "773              Peter W Frey\n",
       "836                    joshnk\n",
       "920               Cole Harris\n",
       "937             John Dunavent\n",
       "953                  jmalicki\n",
       "960           Alec Stephenson\n",
       "                  ...        \n",
       "999896                You Jia\n",
       "1013990               xucheng\n",
       "1016590                 light\n",
       "1020054           Lukasz Grad\n",
       "1026107                Master\n",
       "1036619                <^..^>\n",
       "1037778                 DATAI\n",
       "1040238             Yibing Wu\n",
       "1058397     kes | Glib Kechyn\n",
       "1059933                  VZ24\n",
       "1061959       Atanas Atanasov\n",
       "1067602           Tianyu Pang\n",
       "1069391               lyakaap\n",
       "1069957                cpuwdl\n",
       "1075195                   Ern\n",
       "1093632          Andrey Golov\n",
       "1130615              Lin12345\n",
       "1130981    Arthur Stsepanenka\n",
       "1137518           Kun Hao Yeh\n",
       "1149323          Vlad Golubev\n",
       "1237309                toshif\n",
       "1243343            ouyangxuan\n",
       "1329810      SomethingIsWrong\n",
       "1350701                    RK\n",
       "1385549                  Meyk\n",
       "1391779              uuulearn\n",
       "1398446           Moiz Saifee\n",
       "1417738                 Alvor\n",
       "1426956         Shivam Bansal\n",
       "1571321             trian2018\n",
       "Name: DisplayName, Length: 1000, dtype: object"
      ]
     },
     "execution_count": 75,
     "metadata": {},
     "output_type": "execute_result"
    }
   ],
   "source": [
    "df[df.PerformanceTier == 3][\"DisplayName\"]"
   ]
  },
  {
   "cell_type": "code",
   "execution_count": 76,
   "metadata": {},
   "outputs": [
    {
     "data": {
      "text/plain": [
       "2                     Isabelle\n",
       "24                      maxqld\n",
       "30                 Greg Werner\n",
       "37              Donald Wedding\n",
       "39               Andrew Carter\n",
       "53                    Carlos S\n",
       "68                Vikas Raykar\n",
       "86                         Ben\n",
       "136                Jason Trigg\n",
       "139            Valentin Tiriac\n",
       "142                   Clueless\n",
       "147               Jonas Almlöf\n",
       "155                   Xie Chao\n",
       "161                      Santi\n",
       "172        Hugo Jair Escalante\n",
       "174               Enes Makalic\n",
       "183               Ryan Feather\n",
       "210               image_doctor\n",
       "267                      Shrey\n",
       "323                  Han Zhang\n",
       "396                        tkw\n",
       "421                 Dylan Hogg\n",
       "429                         jk\n",
       "430           Francois GUILLEM\n",
       "434                Colin Green\n",
       "496                   LOGERAIS\n",
       "501               Marcos Sainz\n",
       "534                  Paul Kerl\n",
       "550                Emily Y. Lu\n",
       "552               Erik Gregory\n",
       "                  ...         \n",
       "1691757             Shiyi Chen\n",
       "1694359            Terran Tang\n",
       "1694377           Aaqib Naqati\n",
       "1699604           Ann Antonova\n",
       "1701451        Artyom Palvelev\n",
       "1720592          Nikita Mcowey\n",
       "1745459                 ysdtsy\n",
       "1754970               atfujita\n",
       "1758170             Jiajun Mao\n",
       "1766474             Allan Chen\n",
       "1776669                     BV\n",
       "1777552                   Pooh\n",
       "1779108           Zhengyuan Ye\n",
       "1785987              GO FOR IT\n",
       "1793266                 Sanket\n",
       "1793376     Kristina Kalbasiuk\n",
       "1800071    Nastassia Smolskaya\n",
       "1801567            dineshbarri\n",
       "1822898        Michael Francis\n",
       "1834775             Jacob(현종열)\n",
       "1835235         Diana Puzanava\n",
       "1835524                  Ackie\n",
       "1848495            Alex Caveny\n",
       "1851142          Rei Matsuzaki\n",
       "1881020                starhao\n",
       "1902696                 Appian\n",
       "1916291     Leonid Verkhovtsev\n",
       "1957610            Xufan Zhang\n",
       "1957844             Yui Kasuga\n",
       "1964389        Toshiyuki Sakai\n",
       "Name: DisplayName, Length: 3850, dtype: object"
      ]
     },
     "execution_count": 76,
     "metadata": {},
     "output_type": "execute_result"
    }
   ],
   "source": [
    "df[df.PerformanceTier == 2][\"DisplayName\"]"
   ]
  },
  {
   "cell_type": "code",
   "execution_count": 77,
   "metadata": {},
   "outputs": [
    {
     "data": {
      "text/plain": [
       "6                       Anand Jeyahar\n",
       "10                             m4xl1n\n",
       "11                      gérard dupont\n",
       "12                      David Rolland\n",
       "13                               Hugo\n",
       "16                     Patrick Martin\n",
       "21                        Will Fourie\n",
       "29                   Harri Saarikoski\n",
       "34                              Priya\n",
       "40                    Leonardo Mendes\n",
       "43                           David S.\n",
       "44                             deepak\n",
       "45                       Will Dampier\n",
       "54                              Felix\n",
       "56                             Andrew\n",
       "57                              Jesse\n",
       "59                             runner\n",
       "66                           teaspoon\n",
       "71                    Philip Harslett\n",
       "74                        Fred Oswald\n",
       "76                             JohanP\n",
       "80                      Thomas Mahony\n",
       "91                            tcash21\n",
       "98                          Jon Palin\n",
       "104                       Scuttlebutt\n",
       "105                        multiboost\n",
       "106                   Thymus Vulgaris\n",
       "108                            Altons\n",
       "114                        Jody Biggs\n",
       "115                             Magus\n",
       "                      ...            \n",
       "1998858                 Ken Nicholson\n",
       "1999230                         karma\n",
       "2000658                   James Chong\n",
       "2001595               Maxwell Lincoln\n",
       "2001793                 Paul Kaufmann\n",
       "2001960                   Thao Truong\n",
       "2002212                     Chao Ning\n",
       "2002591           Vladimir Luchinskiy\n",
       "2003898                  Debanjan Das\n",
       "2003950    Venkata Raviteja Kolapalli\n",
       "2004126                      dthacker\n",
       "2004219                    Kon Wen Yu\n",
       "2004256                        Romain\n",
       "2004813                      Geoffrey\n",
       "2008757                  superfitting\n",
       "2009423                        Rams M\n",
       "2009994                  Vaibhav Shah\n",
       "2012061                       vineeth\n",
       "2013268                        zͫeͬro\n",
       "2015829                   PoopdiScoop\n",
       "2021460                        Martin\n",
       "2022086                       higepon\n",
       "2023587                   Arek Noster\n",
       "2024839                rashmi margani\n",
       "2025040                     abhay1225\n",
       "2025845               Daniel Schuette\n",
       "2026833               Christian Greef\n",
       "2027061                 WangXiangyuan\n",
       "2028175                          Will\n",
       "2031644                         Devon\n",
       "Name: DisplayName, Length: 51499, dtype: object"
      ]
     },
     "execution_count": 77,
     "metadata": {},
     "output_type": "execute_result"
    }
   ],
   "source": [
    "df[df.PerformanceTier == 1][\"DisplayName\"]"
   ]
  },
  {
   "cell_type": "code",
   "execution_count": 78,
   "metadata": {},
   "outputs": [
    {
     "data": {
      "text/plain": [
       "3                      Demon Josh\n",
       "4                  Nicholas Gruen\n",
       "5              Vaibhav Srivastava\n",
       "7                adrian stratulat\n",
       "9                           jm302\n",
       "14                 Martijn Wiertz\n",
       "15                John Stachurski\n",
       "17                   Felice Rando\n",
       "18                         Deepak\n",
       "19                       kaizokou\n",
       "20                         Jianli\n",
       "22           smitashree choudhury\n",
       "23                        silence\n",
       "25                    Kuo-Wei Hsu\n",
       "26                           uday\n",
       "27             roger balakrishnan\n",
       "31                       Grzesiek\n",
       "32                         Susana\n",
       "33                      Zach Walz\n",
       "35                        Ranjani\n",
       "36                       dminer75\n",
       "38                    Will Roscoe\n",
       "41                       Fei Yang\n",
       "42                       hkawakat\n",
       "46           Mihai Claudiu Toader\n",
       "47                            EvE\n",
       "48                       bhaskarb\n",
       "49                Neil Halelamien\n",
       "50                  Eric Kaufmann\n",
       "51                     Carlos Joa\n",
       "                    ...          \n",
       "2034426               infinite4ar\n",
       "2034427              Kenji Suzuki\n",
       "2034428                     comer\n",
       "2034429      Avinash Kumar Prasad\n",
       "2034430                    mahset\n",
       "2034431                   GazNewt\n",
       "2034432                     Syuku\n",
       "2034433                   PirayaS\n",
       "2034434                NathalieBU\n",
       "2034435                    slgray\n",
       "2034436              Michał Basak\n",
       "2034437                    meas90\n",
       "2034438                   alberto\n",
       "2034439                Ajay Saini\n",
       "2034440          throwawaycomp309\n",
       "2034441             Kristian-Emil\n",
       "2034442                    BRIANA\n",
       "2034443                    Tushar\n",
       "2034444                   Nethaji\n",
       "2034445                     Janik\n",
       "2034446                 Mr.Gouman\n",
       "2034447    Henry Heiberg Andersen\n",
       "2034448                      Paul\n",
       "2034449                      arun\n",
       "2034450               lone wolfie\n",
       "2034451               teggsdgreat\n",
       "2034452            Sintia Rosanti\n",
       "2034453          SOSTRADERDIGITAL\n",
       "2034454          nettinhoviadinho\n",
       "2034455                    Dharma\n",
       "Name: DisplayName, Length: 1977921, dtype: object"
      ]
     },
     "execution_count": 78,
     "metadata": {},
     "output_type": "execute_result"
    }
   ],
   "source": [
    "df[df.PerformanceTier == 0][\"DisplayName\"]"
   ]
  },
  {
   "cell_type": "code",
   "execution_count": null,
   "metadata": {},
   "outputs": [],
   "source": []
  }
 ],
 "metadata": {
  "kernelspec": {
   "display_name": "Python 3",
   "language": "python",
   "name": "python3"
  },
  "language_info": {
   "codemirror_mode": {
    "name": "ipython",
    "version": 3
   },
   "file_extension": ".py",
   "mimetype": "text/x-python",
   "name": "python",
   "nbconvert_exporter": "python",
   "pygments_lexer": "ipython3",
   "version": "3.6.5"
  }
 },
 "nbformat": 4,
 "nbformat_minor": 2
}
